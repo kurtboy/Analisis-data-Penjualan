{
  "nbformat": 4,
  "nbformat_minor": 0,
  "metadata": {
    "colab": {
      "provenance": []
    },
    "kernelspec": {
      "name": "python3",
      "display_name": "Python 3"
    },
    "language_info": {
      "name": "python"
    }
  },
  "cells": [
    {
      "cell_type": "markdown",
      "source": [
        "# QUESTION\n",
        "\n",
        "1. Which product lines have the highest and the lowest sales? (show in a chart)\n",
        "2. Show sales performance overtime, is there any pattern? (show in a chart)\n",
        "3. How does deal size correlate with total sales? what is the percentage of contribution for eachtype of deal?"
      ],
      "metadata": {
        "id": "NrefNp9f9kgC"
      }
    },
    {
      "cell_type": "code",
      "source": [
        "import pandas as pd\n",
        "import matplotlib.pyplot as plt\n",
        "import seaborn as sns\n",
        "import numpy as np"
      ],
      "metadata": {
        "id": "c-Yh-bSh9HRT"
      },
      "execution_count": null,
      "outputs": []
    },
    {
      "cell_type": "code",
      "source": [
        "a = pd.read_excel('/content/Salinan dari Sales Data - New.xlsx')"
      ],
      "metadata": {
        "id": "C_BDoprl91ZJ"
      },
      "execution_count": null,
      "outputs": []
    },
    {
      "cell_type": "code",
      "source": [
        "a.to_csv('Sales Data.csv', index=False)"
      ],
      "metadata": {
        "id": "WgJwPEHg95nS"
      },
      "execution_count": null,
      "outputs": []
    },
    {
      "cell_type": "code",
      "source": [
        "df = pd.read_csv('/content/Sales Data.csv')"
      ],
      "metadata": {
        "id": "MWNHH9Ss98P5"
      },
      "execution_count": null,
      "outputs": []
    },
    {
      "cell_type": "markdown",
      "source": [
        "# Prepocessing Data"
      ],
      "metadata": {
        "id": "7XTuoCQN-JNK"
      }
    },
    {
      "cell_type": "code",
      "source": [
        "df.head()"
      ],
      "metadata": {
        "colab": {
          "base_uri": "https://localhost:8080/",
          "height": 206
        },
        "id": "FbusH5R69_Ep",
        "outputId": "c56d3f13-0ddf-48ca-b663-80f87075460b"
      },
      "execution_count": null,
      "outputs": [
        {
          "output_type": "execute_result",
          "data": {
            "text/plain": [
              "   ORDERNUMBER  QUANTITYORDERED  PRICEEACH   ORDERDATE   STATUS   PRODUCTLINE  \\\n",
              "0        10100               30     100.00  2003-01-06  Shipped  Vintage Cars   \n",
              "1        10100               50      67.80  2003-01-06  Shipped  Vintage Cars   \n",
              "2        10100               22      86.51  2003-01-06  Shipped  Vintage Cars   \n",
              "3        10100               49      34.47  2003-01-06  Shipped  Vintage Cars   \n",
              "4        10101               25     100.00  2003-01-09  Shipped  Vintage Cars   \n",
              "\n",
              "  PRODUCTCODE                  CUSTOMERNAME       CITY DEALSIZE  \n",
              "0    S18_1749  Online Diecast Creations Co.     Nashua   Medium  \n",
              "1    S18_2248  Online Diecast Creations Co.     Nashua   Medium  \n",
              "2    S18_4409  Online Diecast Creations Co.     Nashua    Small  \n",
              "3    S24_3969  Online Diecast Creations Co.     Nashua    Small  \n",
              "4    S18_2325          Blauer See Auto, Co.  Frankfurt   Medium  "
            ],
            "text/html": [
              "\n",
              "  <div id=\"df-33e07697-a074-4d26-8ff9-3d3ae1f22793\" class=\"colab-df-container\">\n",
              "    <div>\n",
              "<style scoped>\n",
              "    .dataframe tbody tr th:only-of-type {\n",
              "        vertical-align: middle;\n",
              "    }\n",
              "\n",
              "    .dataframe tbody tr th {\n",
              "        vertical-align: top;\n",
              "    }\n",
              "\n",
              "    .dataframe thead th {\n",
              "        text-align: right;\n",
              "    }\n",
              "</style>\n",
              "<table border=\"1\" class=\"dataframe\">\n",
              "  <thead>\n",
              "    <tr style=\"text-align: right;\">\n",
              "      <th></th>\n",
              "      <th>ORDERNUMBER</th>\n",
              "      <th>QUANTITYORDERED</th>\n",
              "      <th>PRICEEACH</th>\n",
              "      <th>ORDERDATE</th>\n",
              "      <th>STATUS</th>\n",
              "      <th>PRODUCTLINE</th>\n",
              "      <th>PRODUCTCODE</th>\n",
              "      <th>CUSTOMERNAME</th>\n",
              "      <th>CITY</th>\n",
              "      <th>DEALSIZE</th>\n",
              "    </tr>\n",
              "  </thead>\n",
              "  <tbody>\n",
              "    <tr>\n",
              "      <th>0</th>\n",
              "      <td>10100</td>\n",
              "      <td>30</td>\n",
              "      <td>100.00</td>\n",
              "      <td>2003-01-06</td>\n",
              "      <td>Shipped</td>\n",
              "      <td>Vintage Cars</td>\n",
              "      <td>S18_1749</td>\n",
              "      <td>Online Diecast Creations Co.</td>\n",
              "      <td>Nashua</td>\n",
              "      <td>Medium</td>\n",
              "    </tr>\n",
              "    <tr>\n",
              "      <th>1</th>\n",
              "      <td>10100</td>\n",
              "      <td>50</td>\n",
              "      <td>67.80</td>\n",
              "      <td>2003-01-06</td>\n",
              "      <td>Shipped</td>\n",
              "      <td>Vintage Cars</td>\n",
              "      <td>S18_2248</td>\n",
              "      <td>Online Diecast Creations Co.</td>\n",
              "      <td>Nashua</td>\n",
              "      <td>Medium</td>\n",
              "    </tr>\n",
              "    <tr>\n",
              "      <th>2</th>\n",
              "      <td>10100</td>\n",
              "      <td>22</td>\n",
              "      <td>86.51</td>\n",
              "      <td>2003-01-06</td>\n",
              "      <td>Shipped</td>\n",
              "      <td>Vintage Cars</td>\n",
              "      <td>S18_4409</td>\n",
              "      <td>Online Diecast Creations Co.</td>\n",
              "      <td>Nashua</td>\n",
              "      <td>Small</td>\n",
              "    </tr>\n",
              "    <tr>\n",
              "      <th>3</th>\n",
              "      <td>10100</td>\n",
              "      <td>49</td>\n",
              "      <td>34.47</td>\n",
              "      <td>2003-01-06</td>\n",
              "      <td>Shipped</td>\n",
              "      <td>Vintage Cars</td>\n",
              "      <td>S24_3969</td>\n",
              "      <td>Online Diecast Creations Co.</td>\n",
              "      <td>Nashua</td>\n",
              "      <td>Small</td>\n",
              "    </tr>\n",
              "    <tr>\n",
              "      <th>4</th>\n",
              "      <td>10101</td>\n",
              "      <td>25</td>\n",
              "      <td>100.00</td>\n",
              "      <td>2003-01-09</td>\n",
              "      <td>Shipped</td>\n",
              "      <td>Vintage Cars</td>\n",
              "      <td>S18_2325</td>\n",
              "      <td>Blauer See Auto, Co.</td>\n",
              "      <td>Frankfurt</td>\n",
              "      <td>Medium</td>\n",
              "    </tr>\n",
              "  </tbody>\n",
              "</table>\n",
              "</div>\n",
              "    <div class=\"colab-df-buttons\">\n",
              "\n",
              "  <div class=\"colab-df-container\">\n",
              "    <button class=\"colab-df-convert\" onclick=\"convertToInteractive('df-33e07697-a074-4d26-8ff9-3d3ae1f22793')\"\n",
              "            title=\"Convert this dataframe to an interactive table.\"\n",
              "            style=\"display:none;\">\n",
              "\n",
              "  <svg xmlns=\"http://www.w3.org/2000/svg\" height=\"24px\" viewBox=\"0 -960 960 960\">\n",
              "    <path d=\"M120-120v-720h720v720H120Zm60-500h600v-160H180v160Zm220 220h160v-160H400v160Zm0 220h160v-160H400v160ZM180-400h160v-160H180v160Zm440 0h160v-160H620v160ZM180-180h160v-160H180v160Zm440 0h160v-160H620v160Z\"/>\n",
              "  </svg>\n",
              "    </button>\n",
              "\n",
              "  <style>\n",
              "    .colab-df-container {\n",
              "      display:flex;\n",
              "      gap: 12px;\n",
              "    }\n",
              "\n",
              "    .colab-df-convert {\n",
              "      background-color: #E8F0FE;\n",
              "      border: none;\n",
              "      border-radius: 50%;\n",
              "      cursor: pointer;\n",
              "      display: none;\n",
              "      fill: #1967D2;\n",
              "      height: 32px;\n",
              "      padding: 0 0 0 0;\n",
              "      width: 32px;\n",
              "    }\n",
              "\n",
              "    .colab-df-convert:hover {\n",
              "      background-color: #E2EBFA;\n",
              "      box-shadow: 0px 1px 2px rgba(60, 64, 67, 0.3), 0px 1px 3px 1px rgba(60, 64, 67, 0.15);\n",
              "      fill: #174EA6;\n",
              "    }\n",
              "\n",
              "    .colab-df-buttons div {\n",
              "      margin-bottom: 4px;\n",
              "    }\n",
              "\n",
              "    [theme=dark] .colab-df-convert {\n",
              "      background-color: #3B4455;\n",
              "      fill: #D2E3FC;\n",
              "    }\n",
              "\n",
              "    [theme=dark] .colab-df-convert:hover {\n",
              "      background-color: #434B5C;\n",
              "      box-shadow: 0px 1px 3px 1px rgba(0, 0, 0, 0.15);\n",
              "      filter: drop-shadow(0px 1px 2px rgba(0, 0, 0, 0.3));\n",
              "      fill: #FFFFFF;\n",
              "    }\n",
              "  </style>\n",
              "\n",
              "    <script>\n",
              "      const buttonEl =\n",
              "        document.querySelector('#df-33e07697-a074-4d26-8ff9-3d3ae1f22793 button.colab-df-convert');\n",
              "      buttonEl.style.display =\n",
              "        google.colab.kernel.accessAllowed ? 'block' : 'none';\n",
              "\n",
              "      async function convertToInteractive(key) {\n",
              "        const element = document.querySelector('#df-33e07697-a074-4d26-8ff9-3d3ae1f22793');\n",
              "        const dataTable =\n",
              "          await google.colab.kernel.invokeFunction('convertToInteractive',\n",
              "                                                    [key], {});\n",
              "        if (!dataTable) return;\n",
              "\n",
              "        const docLinkHtml = 'Like what you see? Visit the ' +\n",
              "          '<a target=\"_blank\" href=https://colab.research.google.com/notebooks/data_table.ipynb>data table notebook</a>'\n",
              "          + ' to learn more about interactive tables.';\n",
              "        element.innerHTML = '';\n",
              "        dataTable['output_type'] = 'display_data';\n",
              "        await google.colab.output.renderOutput(dataTable, element);\n",
              "        const docLink = document.createElement('div');\n",
              "        docLink.innerHTML = docLinkHtml;\n",
              "        element.appendChild(docLink);\n",
              "      }\n",
              "    </script>\n",
              "  </div>\n",
              "\n",
              "\n",
              "<div id=\"df-13df4d9c-57d3-4634-afbb-cc9cbecf764f\">\n",
              "  <button class=\"colab-df-quickchart\" onclick=\"quickchart('df-13df4d9c-57d3-4634-afbb-cc9cbecf764f')\"\n",
              "            title=\"Suggest charts\"\n",
              "            style=\"display:none;\">\n",
              "\n",
              "<svg xmlns=\"http://www.w3.org/2000/svg\" height=\"24px\"viewBox=\"0 0 24 24\"\n",
              "     width=\"24px\">\n",
              "    <g>\n",
              "        <path d=\"M19 3H5c-1.1 0-2 .9-2 2v14c0 1.1.9 2 2 2h14c1.1 0 2-.9 2-2V5c0-1.1-.9-2-2-2zM9 17H7v-7h2v7zm4 0h-2V7h2v10zm4 0h-2v-4h2v4z\"/>\n",
              "    </g>\n",
              "</svg>\n",
              "  </button>\n",
              "\n",
              "<style>\n",
              "  .colab-df-quickchart {\n",
              "      --bg-color: #E8F0FE;\n",
              "      --fill-color: #1967D2;\n",
              "      --hover-bg-color: #E2EBFA;\n",
              "      --hover-fill-color: #174EA6;\n",
              "      --disabled-fill-color: #AAA;\n",
              "      --disabled-bg-color: #DDD;\n",
              "  }\n",
              "\n",
              "  [theme=dark] .colab-df-quickchart {\n",
              "      --bg-color: #3B4455;\n",
              "      --fill-color: #D2E3FC;\n",
              "      --hover-bg-color: #434B5C;\n",
              "      --hover-fill-color: #FFFFFF;\n",
              "      --disabled-bg-color: #3B4455;\n",
              "      --disabled-fill-color: #666;\n",
              "  }\n",
              "\n",
              "  .colab-df-quickchart {\n",
              "    background-color: var(--bg-color);\n",
              "    border: none;\n",
              "    border-radius: 50%;\n",
              "    cursor: pointer;\n",
              "    display: none;\n",
              "    fill: var(--fill-color);\n",
              "    height: 32px;\n",
              "    padding: 0;\n",
              "    width: 32px;\n",
              "  }\n",
              "\n",
              "  .colab-df-quickchart:hover {\n",
              "    background-color: var(--hover-bg-color);\n",
              "    box-shadow: 0 1px 2px rgba(60, 64, 67, 0.3), 0 1px 3px 1px rgba(60, 64, 67, 0.15);\n",
              "    fill: var(--button-hover-fill-color);\n",
              "  }\n",
              "\n",
              "  .colab-df-quickchart-complete:disabled,\n",
              "  .colab-df-quickchart-complete:disabled:hover {\n",
              "    background-color: var(--disabled-bg-color);\n",
              "    fill: var(--disabled-fill-color);\n",
              "    box-shadow: none;\n",
              "  }\n",
              "\n",
              "  .colab-df-spinner {\n",
              "    border: 2px solid var(--fill-color);\n",
              "    border-color: transparent;\n",
              "    border-bottom-color: var(--fill-color);\n",
              "    animation:\n",
              "      spin 1s steps(1) infinite;\n",
              "  }\n",
              "\n",
              "  @keyframes spin {\n",
              "    0% {\n",
              "      border-color: transparent;\n",
              "      border-bottom-color: var(--fill-color);\n",
              "      border-left-color: var(--fill-color);\n",
              "    }\n",
              "    20% {\n",
              "      border-color: transparent;\n",
              "      border-left-color: var(--fill-color);\n",
              "      border-top-color: var(--fill-color);\n",
              "    }\n",
              "    30% {\n",
              "      border-color: transparent;\n",
              "      border-left-color: var(--fill-color);\n",
              "      border-top-color: var(--fill-color);\n",
              "      border-right-color: var(--fill-color);\n",
              "    }\n",
              "    40% {\n",
              "      border-color: transparent;\n",
              "      border-right-color: var(--fill-color);\n",
              "      border-top-color: var(--fill-color);\n",
              "    }\n",
              "    60% {\n",
              "      border-color: transparent;\n",
              "      border-right-color: var(--fill-color);\n",
              "    }\n",
              "    80% {\n",
              "      border-color: transparent;\n",
              "      border-right-color: var(--fill-color);\n",
              "      border-bottom-color: var(--fill-color);\n",
              "    }\n",
              "    90% {\n",
              "      border-color: transparent;\n",
              "      border-bottom-color: var(--fill-color);\n",
              "    }\n",
              "  }\n",
              "</style>\n",
              "\n",
              "  <script>\n",
              "    async function quickchart(key) {\n",
              "      const quickchartButtonEl =\n",
              "        document.querySelector('#' + key + ' button');\n",
              "      quickchartButtonEl.disabled = true;  // To prevent multiple clicks.\n",
              "      quickchartButtonEl.classList.add('colab-df-spinner');\n",
              "      try {\n",
              "        const charts = await google.colab.kernel.invokeFunction(\n",
              "            'suggestCharts', [key], {});\n",
              "      } catch (error) {\n",
              "        console.error('Error during call to suggestCharts:', error);\n",
              "      }\n",
              "      quickchartButtonEl.classList.remove('colab-df-spinner');\n",
              "      quickchartButtonEl.classList.add('colab-df-quickchart-complete');\n",
              "    }\n",
              "    (() => {\n",
              "      let quickchartButtonEl =\n",
              "        document.querySelector('#df-13df4d9c-57d3-4634-afbb-cc9cbecf764f button');\n",
              "      quickchartButtonEl.style.display =\n",
              "        google.colab.kernel.accessAllowed ? 'block' : 'none';\n",
              "    })();\n",
              "  </script>\n",
              "</div>\n",
              "\n",
              "    </div>\n",
              "  </div>\n"
            ],
            "application/vnd.google.colaboratory.intrinsic+json": {
              "type": "dataframe",
              "variable_name": "df",
              "summary": "{\n  \"name\": \"df\",\n  \"rows\": 2824,\n  \"fields\": [\n    {\n      \"column\": \"ORDERNUMBER\",\n      \"properties\": {\n        \"dtype\": \"number\",\n        \"std\": 92,\n        \"min\": 10100,\n        \"max\": 10425,\n        \"num_unique_values\": 307,\n        \"samples\": [\n          10295,\n          10163,\n          10232\n        ],\n        \"semantic_type\": \"\",\n        \"description\": \"\"\n      }\n    },\n    {\n      \"column\": \"QUANTITYORDERED\",\n      \"properties\": {\n        \"dtype\": \"number\",\n        \"std\": 9,\n        \"min\": 6,\n        \"max\": 97,\n        \"num_unique_values\": 58,\n        \"samples\": [\n          30,\n          26,\n          52\n        ],\n        \"semantic_type\": \"\",\n        \"description\": \"\"\n      }\n    },\n    {\n      \"column\": \"PRICEEACH\",\n      \"properties\": {\n        \"dtype\": \"number\",\n        \"std\": 20.173982057380066,\n        \"min\": 26.88,\n        \"max\": 100.0,\n        \"num_unique_values\": 1016,\n        \"samples\": [\n          90.4,\n          77.41,\n          93.9\n        ],\n        \"semantic_type\": \"\",\n        \"description\": \"\"\n      }\n    },\n    {\n      \"column\": \"ORDERDATE\",\n      \"properties\": {\n        \"dtype\": \"object\",\n        \"num_unique_values\": 252,\n        \"samples\": [\n          \"2004-10-11\",\n          \"2003-02-17\",\n          \"2004-04-09\"\n        ],\n        \"semantic_type\": \"\",\n        \"description\": \"\"\n      }\n    },\n    {\n      \"column\": \"STATUS\",\n      \"properties\": {\n        \"dtype\": \"category\",\n        \"num_unique_values\": 6,\n        \"samples\": [\n          \"Shipped\",\n          \"Resolved\",\n          \"In Process\"\n        ],\n        \"semantic_type\": \"\",\n        \"description\": \"\"\n      }\n    },\n    {\n      \"column\": \"PRODUCTLINE\",\n      \"properties\": {\n        \"dtype\": \"category\",\n        \"num_unique_values\": 7,\n        \"samples\": [\n          \"Vintage Cars\",\n          \"Classic Cars\",\n          \"Planes\"\n        ],\n        \"semantic_type\": \"\",\n        \"description\": \"\"\n      }\n    },\n    {\n      \"column\": \"PRODUCTCODE\",\n      \"properties\": {\n        \"dtype\": \"category\",\n        \"num_unique_values\": 109,\n        \"samples\": [\n          \"S24_2000\",\n          \"S10_1949\",\n          \"S18_2325\"\n        ],\n        \"semantic_type\": \"\",\n        \"description\": \"\"\n      }\n    },\n    {\n      \"column\": \"CUSTOMERNAME\",\n      \"properties\": {\n        \"dtype\": \"category\",\n        \"num_unique_values\": 92,\n        \"samples\": [\n          \"Oulu Toy Supplies, Inc.\",\n          \"Marseille Mini Autos\",\n          \"Herkku Gifts\"\n        ],\n        \"semantic_type\": \"\",\n        \"description\": \"\"\n      }\n    },\n    {\n      \"column\": \"CITY\",\n      \"properties\": {\n        \"dtype\": \"category\",\n        \"num_unique_values\": 73,\n        \"samples\": [\n          \"Madrid\",\n          \"Newark\",\n          \"Melbourne\"\n        ],\n        \"semantic_type\": \"\",\n        \"description\": \"\"\n      }\n    },\n    {\n      \"column\": \"DEALSIZE\",\n      \"properties\": {\n        \"dtype\": \"category\",\n        \"num_unique_values\": 3,\n        \"samples\": [\n          \"Medium\",\n          \"Small\",\n          \"Large\"\n        ],\n        \"semantic_type\": \"\",\n        \"description\": \"\"\n      }\n    }\n  ]\n}"
            }
          },
          "metadata": {},
          "execution_count": 5
        }
      ]
    },
    {
      "cell_type": "markdown",
      "source": [
        "## Data Type"
      ],
      "metadata": {
        "id": "gBaKvUI-_6v6"
      }
    },
    {
      "cell_type": "code",
      "source": [
        "df.info()"
      ],
      "metadata": {
        "colab": {
          "base_uri": "https://localhost:8080/"
        },
        "id": "9vlCgkeE__Mx",
        "outputId": "51e64a4e-0776-4ea8-aa21-a1e7d271aef7"
      },
      "execution_count": null,
      "outputs": [
        {
          "output_type": "stream",
          "name": "stdout",
          "text": [
            "<class 'pandas.core.frame.DataFrame'>\n",
            "RangeIndex: 2824 entries, 0 to 2823\n",
            "Data columns (total 10 columns):\n",
            " #   Column           Non-Null Count  Dtype  \n",
            "---  ------           --------------  -----  \n",
            " 0   ORDERNUMBER      2824 non-null   int64  \n",
            " 1   QUANTITYORDERED  2824 non-null   int64  \n",
            " 2   PRICEEACH        2824 non-null   float64\n",
            " 3   ORDERDATE        2824 non-null   object \n",
            " 4   STATUS           2824 non-null   object \n",
            " 5   PRODUCTLINE      2824 non-null   object \n",
            " 6   PRODUCTCODE      2824 non-null   object \n",
            " 7   CUSTOMERNAME     2824 non-null   object \n",
            " 8   CITY             2824 non-null   object \n",
            " 9   DEALSIZE         2824 non-null   object \n",
            "dtypes: float64(1), int64(2), object(7)\n",
            "memory usage: 220.8+ KB\n"
          ]
        }
      ]
    },
    {
      "cell_type": "code",
      "source": [
        "df['ORDERDATE'] = pd.to_datetime(df['ORDERDATE'])\n",
        "df.info()"
      ],
      "metadata": {
        "colab": {
          "base_uri": "https://localhost:8080/"
        },
        "id": "35yP8jO-CSCw",
        "outputId": "f88c14f1-3e9a-46a1-db1b-abc50df31afc"
      },
      "execution_count": null,
      "outputs": [
        {
          "output_type": "stream",
          "name": "stdout",
          "text": [
            "<class 'pandas.core.frame.DataFrame'>\n",
            "RangeIndex: 2824 entries, 0 to 2823\n",
            "Data columns (total 10 columns):\n",
            " #   Column           Non-Null Count  Dtype         \n",
            "---  ------           --------------  -----         \n",
            " 0   ORDERNUMBER      2824 non-null   int64         \n",
            " 1   QUANTITYORDERED  2824 non-null   int64         \n",
            " 2   PRICEEACH        2824 non-null   float64       \n",
            " 3   ORDERDATE        2824 non-null   datetime64[ns]\n",
            " 4   STATUS           2824 non-null   object        \n",
            " 5   PRODUCTLINE      2824 non-null   object        \n",
            " 6   PRODUCTCODE      2824 non-null   object        \n",
            " 7   CUSTOMERNAME     2824 non-null   object        \n",
            " 8   CITY             2824 non-null   object        \n",
            " 9   DEALSIZE         2824 non-null   object        \n",
            "dtypes: datetime64[ns](1), float64(1), int64(2), object(6)\n",
            "memory usage: 220.8+ KB\n"
          ]
        }
      ]
    },
    {
      "cell_type": "markdown",
      "source": [
        "## MIssing Value"
      ],
      "metadata": {
        "id": "nUxdDAitC6gx"
      }
    },
    {
      "cell_type": "code",
      "source": [
        "df.isnull().sum()"
      ],
      "metadata": {
        "colab": {
          "base_uri": "https://localhost:8080/",
          "height": 398
        },
        "id": "KFAf2_A_Cj7R",
        "outputId": "0bafc0c9-9e13-415e-db82-63cac5d167d8"
      },
      "execution_count": null,
      "outputs": [
        {
          "output_type": "execute_result",
          "data": {
            "text/plain": [
              "ORDERNUMBER        0\n",
              "QUANTITYORDERED    0\n",
              "PRICEEACH          0\n",
              "ORDERDATE          0\n",
              "STATUS             0\n",
              "PRODUCTLINE        0\n",
              "PRODUCTCODE        0\n",
              "CUSTOMERNAME       0\n",
              "CITY               0\n",
              "DEALSIZE           0\n",
              "dtype: int64"
            ],
            "text/html": [
              "<div>\n",
              "<style scoped>\n",
              "    .dataframe tbody tr th:only-of-type {\n",
              "        vertical-align: middle;\n",
              "    }\n",
              "\n",
              "    .dataframe tbody tr th {\n",
              "        vertical-align: top;\n",
              "    }\n",
              "\n",
              "    .dataframe thead th {\n",
              "        text-align: right;\n",
              "    }\n",
              "</style>\n",
              "<table border=\"1\" class=\"dataframe\">\n",
              "  <thead>\n",
              "    <tr style=\"text-align: right;\">\n",
              "      <th></th>\n",
              "      <th>0</th>\n",
              "    </tr>\n",
              "  </thead>\n",
              "  <tbody>\n",
              "    <tr>\n",
              "      <th>ORDERNUMBER</th>\n",
              "      <td>0</td>\n",
              "    </tr>\n",
              "    <tr>\n",
              "      <th>QUANTITYORDERED</th>\n",
              "      <td>0</td>\n",
              "    </tr>\n",
              "    <tr>\n",
              "      <th>PRICEEACH</th>\n",
              "      <td>0</td>\n",
              "    </tr>\n",
              "    <tr>\n",
              "      <th>ORDERDATE</th>\n",
              "      <td>0</td>\n",
              "    </tr>\n",
              "    <tr>\n",
              "      <th>STATUS</th>\n",
              "      <td>0</td>\n",
              "    </tr>\n",
              "    <tr>\n",
              "      <th>PRODUCTLINE</th>\n",
              "      <td>0</td>\n",
              "    </tr>\n",
              "    <tr>\n",
              "      <th>PRODUCTCODE</th>\n",
              "      <td>0</td>\n",
              "    </tr>\n",
              "    <tr>\n",
              "      <th>CUSTOMERNAME</th>\n",
              "      <td>0</td>\n",
              "    </tr>\n",
              "    <tr>\n",
              "      <th>CITY</th>\n",
              "      <td>0</td>\n",
              "    </tr>\n",
              "    <tr>\n",
              "      <th>DEALSIZE</th>\n",
              "      <td>0</td>\n",
              "    </tr>\n",
              "  </tbody>\n",
              "</table>\n",
              "</div><br><label><b>dtype:</b> int64</label>"
            ]
          },
          "metadata": {},
          "execution_count": 8
        }
      ]
    },
    {
      "cell_type": "markdown",
      "source": [
        "## Duplicate Value"
      ],
      "metadata": {
        "id": "H-L-NcXZDROn"
      }
    },
    {
      "cell_type": "code",
      "source": [
        "print (f' Nilai duplikat :', {df.duplicated().sum()})"
      ],
      "metadata": {
        "colab": {
          "base_uri": "https://localhost:8080/"
        },
        "id": "IqkpEHY6CjzP",
        "outputId": "e9da06ef-7683-467d-eac4-7b86fdec3daf"
      },
      "execution_count": null,
      "outputs": [
        {
          "output_type": "stream",
          "name": "stdout",
          "text": [
            " Nilai duplikat : {np.int64(1)}\n"
          ]
        }
      ]
    },
    {
      "cell_type": "code",
      "source": [
        "df = df.drop_duplicates()\n",
        "print (f' Nilai duplikat :', {df.duplicated().sum()})"
      ],
      "metadata": {
        "colab": {
          "base_uri": "https://localhost:8080/"
        },
        "id": "dzoJ6qEkCjt9",
        "outputId": "0ef3cb3e-d56c-4fa6-99d9-65bf6c66b1f5"
      },
      "execution_count": null,
      "outputs": [
        {
          "output_type": "stream",
          "name": "stdout",
          "text": [
            " Nilai duplikat : {np.int64(0)}\n"
          ]
        }
      ]
    },
    {
      "cell_type": "markdown",
      "source": [
        "## Mengambil data yang statusnya Shipped dan Resolved"
      ],
      "metadata": {
        "id": "_vIrJ9ZtIOTW"
      }
    },
    {
      "cell_type": "code",
      "source": [
        "jumlah_status = df['STATUS'].value_counts()\n",
        "print(jumlah_status)"
      ],
      "metadata": {
        "colab": {
          "base_uri": "https://localhost:8080/"
        },
        "id": "KsW7oRqOCjoI",
        "outputId": "994fac4e-6454-4d41-ec99-9836528c421f"
      },
      "execution_count": null,
      "outputs": [
        {
          "output_type": "stream",
          "name": "stdout",
          "text": [
            "STATUS\n",
            "Shipped       2617\n",
            "Cancelled       60\n",
            "Resolved        47\n",
            "On Hold         44\n",
            "In Process      41\n",
            "Disputed        14\n",
            "Name: count, dtype: int64\n"
          ]
        }
      ]
    },
    {
      "cell_type": "code",
      "source": [
        "df_proses = df.copy()\n",
        "# Filter status yang tidak diinginkan\n",
        "status_tidak_diinginkan = ['Cancelled', 'On Hold', 'In Process', 'Disputed']\n",
        "# Mask untuk memfilter status\n",
        "mask_status = ~df_proses['STATUS'].isin(status_tidak_diinginkan)\n",
        "# Terapkan mask ke dataframe\n",
        "df_proses = df_proses[mask_status]\n",
        "# Cetak jumlah baris sebelum dan sesudah filtering\n",
        "print(\"Jumlah baris sebelum filtering:\", len(df))\n",
        "print(\"Jumlah baris sesudah filtering:\", len(df_proses))"
      ],
      "metadata": {
        "colab": {
          "base_uri": "https://localhost:8080/"
        },
        "id": "1-Gin14iCjgn",
        "outputId": "bb63a367-d1f3-4359-99f4-a3f8556014e6"
      },
      "execution_count": null,
      "outputs": [
        {
          "output_type": "stream",
          "name": "stdout",
          "text": [
            "Jumlah baris sebelum filtering: 2823\n",
            "Jumlah baris sesudah filtering: 2664\n"
          ]
        }
      ]
    },
    {
      "cell_type": "code",
      "source": [
        "status = df_proses['STATUS'].value_counts()\n",
        "print(status)"
      ],
      "metadata": {
        "colab": {
          "base_uri": "https://localhost:8080/"
        },
        "id": "wQlscnACJW1h",
        "outputId": "b4016240-7821-4fe2-d41a-25c25d82f7b4"
      },
      "execution_count": null,
      "outputs": [
        {
          "output_type": "stream",
          "name": "stdout",
          "text": [
            "STATUS\n",
            "Shipped     2617\n",
            "Resolved      47\n",
            "Name: count, dtype: int64\n"
          ]
        }
      ]
    },
    {
      "cell_type": "markdown",
      "source": [
        "## Menambah kolom Revenue"
      ],
      "metadata": {
        "id": "SAnvhzXkJyeb"
      }
    },
    {
      "cell_type": "code",
      "source": [
        "# Membuat kolom baru bernama REVENUE\n",
        "df_proses['REVENUE'] = df_proses['QUANTITYORDERED'] * df_proses['PRICEEACH']\n",
        "# Validasi data untuk memastikan kolom REVENUE memiliki nilai yang valid\n",
        "print(\"Validasi data untuk memastikan kolom REVENUE memiliki nilai yang valid:\")\n",
        "print(df_proses['REVENUE'].describe())\n",
        "df_proses.head()"
      ],
      "metadata": {
        "colab": {
          "base_uri": "https://localhost:8080/",
          "height": 380
        },
        "id": "N--xE9FdJvlp",
        "outputId": "02f5f246-7f2b-4c9c-e094-c95aa69fd73e"
      },
      "execution_count": null,
      "outputs": [
        {
          "output_type": "stream",
          "name": "stdout",
          "text": [
            "Validasi data untuk memastikan kolom REVENUE memiliki nilai yang valid:\n",
            "count    2664.000000\n",
            "mean     2922.300300\n",
            "std      1077.855291\n",
            "min       553.950000\n",
            "25%      2100.000000\n",
            "50%      2800.000000\n",
            "75%      3700.000000\n",
            "max      9048.160000\n",
            "Name: REVENUE, dtype: float64\n"
          ]
        },
        {
          "output_type": "execute_result",
          "data": {
            "text/plain": [
              "   ORDERNUMBER  QUANTITYORDERED  PRICEEACH  ORDERDATE   STATUS   PRODUCTLINE  \\\n",
              "0        10100               30     100.00 2003-01-06  Shipped  Vintage Cars   \n",
              "1        10100               50      67.80 2003-01-06  Shipped  Vintage Cars   \n",
              "2        10100               22      86.51 2003-01-06  Shipped  Vintage Cars   \n",
              "3        10100               49      34.47 2003-01-06  Shipped  Vintage Cars   \n",
              "4        10101               25     100.00 2003-01-09  Shipped  Vintage Cars   \n",
              "\n",
              "  PRODUCTCODE                  CUSTOMERNAME       CITY DEALSIZE  REVENUE  \n",
              "0    S18_1749  Online Diecast Creations Co.     Nashua   Medium  3000.00  \n",
              "1    S18_2248  Online Diecast Creations Co.     Nashua   Medium  3390.00  \n",
              "2    S18_4409  Online Diecast Creations Co.     Nashua    Small  1903.22  \n",
              "3    S24_3969  Online Diecast Creations Co.     Nashua    Small  1689.03  \n",
              "4    S18_2325          Blauer See Auto, Co.  Frankfurt   Medium  2500.00  "
            ],
            "text/html": [
              "\n",
              "  <div id=\"df-be740641-5833-400e-a841-36b373d35ac6\" class=\"colab-df-container\">\n",
              "    <div>\n",
              "<style scoped>\n",
              "    .dataframe tbody tr th:only-of-type {\n",
              "        vertical-align: middle;\n",
              "    }\n",
              "\n",
              "    .dataframe tbody tr th {\n",
              "        vertical-align: top;\n",
              "    }\n",
              "\n",
              "    .dataframe thead th {\n",
              "        text-align: right;\n",
              "    }\n",
              "</style>\n",
              "<table border=\"1\" class=\"dataframe\">\n",
              "  <thead>\n",
              "    <tr style=\"text-align: right;\">\n",
              "      <th></th>\n",
              "      <th>ORDERNUMBER</th>\n",
              "      <th>QUANTITYORDERED</th>\n",
              "      <th>PRICEEACH</th>\n",
              "      <th>ORDERDATE</th>\n",
              "      <th>STATUS</th>\n",
              "      <th>PRODUCTLINE</th>\n",
              "      <th>PRODUCTCODE</th>\n",
              "      <th>CUSTOMERNAME</th>\n",
              "      <th>CITY</th>\n",
              "      <th>DEALSIZE</th>\n",
              "      <th>REVENUE</th>\n",
              "    </tr>\n",
              "  </thead>\n",
              "  <tbody>\n",
              "    <tr>\n",
              "      <th>0</th>\n",
              "      <td>10100</td>\n",
              "      <td>30</td>\n",
              "      <td>100.00</td>\n",
              "      <td>2003-01-06</td>\n",
              "      <td>Shipped</td>\n",
              "      <td>Vintage Cars</td>\n",
              "      <td>S18_1749</td>\n",
              "      <td>Online Diecast Creations Co.</td>\n",
              "      <td>Nashua</td>\n",
              "      <td>Medium</td>\n",
              "      <td>3000.00</td>\n",
              "    </tr>\n",
              "    <tr>\n",
              "      <th>1</th>\n",
              "      <td>10100</td>\n",
              "      <td>50</td>\n",
              "      <td>67.80</td>\n",
              "      <td>2003-01-06</td>\n",
              "      <td>Shipped</td>\n",
              "      <td>Vintage Cars</td>\n",
              "      <td>S18_2248</td>\n",
              "      <td>Online Diecast Creations Co.</td>\n",
              "      <td>Nashua</td>\n",
              "      <td>Medium</td>\n",
              "      <td>3390.00</td>\n",
              "    </tr>\n",
              "    <tr>\n",
              "      <th>2</th>\n",
              "      <td>10100</td>\n",
              "      <td>22</td>\n",
              "      <td>86.51</td>\n",
              "      <td>2003-01-06</td>\n",
              "      <td>Shipped</td>\n",
              "      <td>Vintage Cars</td>\n",
              "      <td>S18_4409</td>\n",
              "      <td>Online Diecast Creations Co.</td>\n",
              "      <td>Nashua</td>\n",
              "      <td>Small</td>\n",
              "      <td>1903.22</td>\n",
              "    </tr>\n",
              "    <tr>\n",
              "      <th>3</th>\n",
              "      <td>10100</td>\n",
              "      <td>49</td>\n",
              "      <td>34.47</td>\n",
              "      <td>2003-01-06</td>\n",
              "      <td>Shipped</td>\n",
              "      <td>Vintage Cars</td>\n",
              "      <td>S24_3969</td>\n",
              "      <td>Online Diecast Creations Co.</td>\n",
              "      <td>Nashua</td>\n",
              "      <td>Small</td>\n",
              "      <td>1689.03</td>\n",
              "    </tr>\n",
              "    <tr>\n",
              "      <th>4</th>\n",
              "      <td>10101</td>\n",
              "      <td>25</td>\n",
              "      <td>100.00</td>\n",
              "      <td>2003-01-09</td>\n",
              "      <td>Shipped</td>\n",
              "      <td>Vintage Cars</td>\n",
              "      <td>S18_2325</td>\n",
              "      <td>Blauer See Auto, Co.</td>\n",
              "      <td>Frankfurt</td>\n",
              "      <td>Medium</td>\n",
              "      <td>2500.00</td>\n",
              "    </tr>\n",
              "  </tbody>\n",
              "</table>\n",
              "</div>\n",
              "    <div class=\"colab-df-buttons\">\n",
              "\n",
              "  <div class=\"colab-df-container\">\n",
              "    <button class=\"colab-df-convert\" onclick=\"convertToInteractive('df-be740641-5833-400e-a841-36b373d35ac6')\"\n",
              "            title=\"Convert this dataframe to an interactive table.\"\n",
              "            style=\"display:none;\">\n",
              "\n",
              "  <svg xmlns=\"http://www.w3.org/2000/svg\" height=\"24px\" viewBox=\"0 -960 960 960\">\n",
              "    <path d=\"M120-120v-720h720v720H120Zm60-500h600v-160H180v160Zm220 220h160v-160H400v160Zm0 220h160v-160H400v160ZM180-400h160v-160H180v160Zm440 0h160v-160H620v160ZM180-180h160v-160H180v160Zm440 0h160v-160H620v160Z\"/>\n",
              "  </svg>\n",
              "    </button>\n",
              "\n",
              "  <style>\n",
              "    .colab-df-container {\n",
              "      display:flex;\n",
              "      gap: 12px;\n",
              "    }\n",
              "\n",
              "    .colab-df-convert {\n",
              "      background-color: #E8F0FE;\n",
              "      border: none;\n",
              "      border-radius: 50%;\n",
              "      cursor: pointer;\n",
              "      display: none;\n",
              "      fill: #1967D2;\n",
              "      height: 32px;\n",
              "      padding: 0 0 0 0;\n",
              "      width: 32px;\n",
              "    }\n",
              "\n",
              "    .colab-df-convert:hover {\n",
              "      background-color: #E2EBFA;\n",
              "      box-shadow: 0px 1px 2px rgba(60, 64, 67, 0.3), 0px 1px 3px 1px rgba(60, 64, 67, 0.15);\n",
              "      fill: #174EA6;\n",
              "    }\n",
              "\n",
              "    .colab-df-buttons div {\n",
              "      margin-bottom: 4px;\n",
              "    }\n",
              "\n",
              "    [theme=dark] .colab-df-convert {\n",
              "      background-color: #3B4455;\n",
              "      fill: #D2E3FC;\n",
              "    }\n",
              "\n",
              "    [theme=dark] .colab-df-convert:hover {\n",
              "      background-color: #434B5C;\n",
              "      box-shadow: 0px 1px 3px 1px rgba(0, 0, 0, 0.15);\n",
              "      filter: drop-shadow(0px 1px 2px rgba(0, 0, 0, 0.3));\n",
              "      fill: #FFFFFF;\n",
              "    }\n",
              "  </style>\n",
              "\n",
              "    <script>\n",
              "      const buttonEl =\n",
              "        document.querySelector('#df-be740641-5833-400e-a841-36b373d35ac6 button.colab-df-convert');\n",
              "      buttonEl.style.display =\n",
              "        google.colab.kernel.accessAllowed ? 'block' : 'none';\n",
              "\n",
              "      async function convertToInteractive(key) {\n",
              "        const element = document.querySelector('#df-be740641-5833-400e-a841-36b373d35ac6');\n",
              "        const dataTable =\n",
              "          await google.colab.kernel.invokeFunction('convertToInteractive',\n",
              "                                                    [key], {});\n",
              "        if (!dataTable) return;\n",
              "\n",
              "        const docLinkHtml = 'Like what you see? Visit the ' +\n",
              "          '<a target=\"_blank\" href=https://colab.research.google.com/notebooks/data_table.ipynb>data table notebook</a>'\n",
              "          + ' to learn more about interactive tables.';\n",
              "        element.innerHTML = '';\n",
              "        dataTable['output_type'] = 'display_data';\n",
              "        await google.colab.output.renderOutput(dataTable, element);\n",
              "        const docLink = document.createElement('div');\n",
              "        docLink.innerHTML = docLinkHtml;\n",
              "        element.appendChild(docLink);\n",
              "      }\n",
              "    </script>\n",
              "  </div>\n",
              "\n",
              "\n",
              "<div id=\"df-72622668-c59a-4e40-9a13-e0d2b39303e9\">\n",
              "  <button class=\"colab-df-quickchart\" onclick=\"quickchart('df-72622668-c59a-4e40-9a13-e0d2b39303e9')\"\n",
              "            title=\"Suggest charts\"\n",
              "            style=\"display:none;\">\n",
              "\n",
              "<svg xmlns=\"http://www.w3.org/2000/svg\" height=\"24px\"viewBox=\"0 0 24 24\"\n",
              "     width=\"24px\">\n",
              "    <g>\n",
              "        <path d=\"M19 3H5c-1.1 0-2 .9-2 2v14c0 1.1.9 2 2 2h14c1.1 0 2-.9 2-2V5c0-1.1-.9-2-2-2zM9 17H7v-7h2v7zm4 0h-2V7h2v10zm4 0h-2v-4h2v4z\"/>\n",
              "    </g>\n",
              "</svg>\n",
              "  </button>\n",
              "\n",
              "<style>\n",
              "  .colab-df-quickchart {\n",
              "      --bg-color: #E8F0FE;\n",
              "      --fill-color: #1967D2;\n",
              "      --hover-bg-color: #E2EBFA;\n",
              "      --hover-fill-color: #174EA6;\n",
              "      --disabled-fill-color: #AAA;\n",
              "      --disabled-bg-color: #DDD;\n",
              "  }\n",
              "\n",
              "  [theme=dark] .colab-df-quickchart {\n",
              "      --bg-color: #3B4455;\n",
              "      --fill-color: #D2E3FC;\n",
              "      --hover-bg-color: #434B5C;\n",
              "      --hover-fill-color: #FFFFFF;\n",
              "      --disabled-bg-color: #3B4455;\n",
              "      --disabled-fill-color: #666;\n",
              "  }\n",
              "\n",
              "  .colab-df-quickchart {\n",
              "    background-color: var(--bg-color);\n",
              "    border: none;\n",
              "    border-radius: 50%;\n",
              "    cursor: pointer;\n",
              "    display: none;\n",
              "    fill: var(--fill-color);\n",
              "    height: 32px;\n",
              "    padding: 0;\n",
              "    width: 32px;\n",
              "  }\n",
              "\n",
              "  .colab-df-quickchart:hover {\n",
              "    background-color: var(--hover-bg-color);\n",
              "    box-shadow: 0 1px 2px rgba(60, 64, 67, 0.3), 0 1px 3px 1px rgba(60, 64, 67, 0.15);\n",
              "    fill: var(--button-hover-fill-color);\n",
              "  }\n",
              "\n",
              "  .colab-df-quickchart-complete:disabled,\n",
              "  .colab-df-quickchart-complete:disabled:hover {\n",
              "    background-color: var(--disabled-bg-color);\n",
              "    fill: var(--disabled-fill-color);\n",
              "    box-shadow: none;\n",
              "  }\n",
              "\n",
              "  .colab-df-spinner {\n",
              "    border: 2px solid var(--fill-color);\n",
              "    border-color: transparent;\n",
              "    border-bottom-color: var(--fill-color);\n",
              "    animation:\n",
              "      spin 1s steps(1) infinite;\n",
              "  }\n",
              "\n",
              "  @keyframes spin {\n",
              "    0% {\n",
              "      border-color: transparent;\n",
              "      border-bottom-color: var(--fill-color);\n",
              "      border-left-color: var(--fill-color);\n",
              "    }\n",
              "    20% {\n",
              "      border-color: transparent;\n",
              "      border-left-color: var(--fill-color);\n",
              "      border-top-color: var(--fill-color);\n",
              "    }\n",
              "    30% {\n",
              "      border-color: transparent;\n",
              "      border-left-color: var(--fill-color);\n",
              "      border-top-color: var(--fill-color);\n",
              "      border-right-color: var(--fill-color);\n",
              "    }\n",
              "    40% {\n",
              "      border-color: transparent;\n",
              "      border-right-color: var(--fill-color);\n",
              "      border-top-color: var(--fill-color);\n",
              "    }\n",
              "    60% {\n",
              "      border-color: transparent;\n",
              "      border-right-color: var(--fill-color);\n",
              "    }\n",
              "    80% {\n",
              "      border-color: transparent;\n",
              "      border-right-color: var(--fill-color);\n",
              "      border-bottom-color: var(--fill-color);\n",
              "    }\n",
              "    90% {\n",
              "      border-color: transparent;\n",
              "      border-bottom-color: var(--fill-color);\n",
              "    }\n",
              "  }\n",
              "</style>\n",
              "\n",
              "  <script>\n",
              "    async function quickchart(key) {\n",
              "      const quickchartButtonEl =\n",
              "        document.querySelector('#' + key + ' button');\n",
              "      quickchartButtonEl.disabled = true;  // To prevent multiple clicks.\n",
              "      quickchartButtonEl.classList.add('colab-df-spinner');\n",
              "      try {\n",
              "        const charts = await google.colab.kernel.invokeFunction(\n",
              "            'suggestCharts', [key], {});\n",
              "      } catch (error) {\n",
              "        console.error('Error during call to suggestCharts:', error);\n",
              "      }\n",
              "      quickchartButtonEl.classList.remove('colab-df-spinner');\n",
              "      quickchartButtonEl.classList.add('colab-df-quickchart-complete');\n",
              "    }\n",
              "    (() => {\n",
              "      let quickchartButtonEl =\n",
              "        document.querySelector('#df-72622668-c59a-4e40-9a13-e0d2b39303e9 button');\n",
              "      quickchartButtonEl.style.display =\n",
              "        google.colab.kernel.accessAllowed ? 'block' : 'none';\n",
              "    })();\n",
              "  </script>\n",
              "</div>\n",
              "\n",
              "    </div>\n",
              "  </div>\n"
            ],
            "application/vnd.google.colaboratory.intrinsic+json": {
              "type": "dataframe",
              "variable_name": "df_proses",
              "summary": "{\n  \"name\": \"df_proses\",\n  \"rows\": 2664,\n  \"fields\": [\n    {\n      \"column\": \"ORDERNUMBER\",\n      \"properties\": {\n        \"dtype\": \"number\",\n        \"std\": 89,\n        \"min\": 10100,\n        \"max\": 10419,\n        \"num_unique_values\": 290,\n        \"samples\": [\n          10190,\n          10377,\n          10147\n        ],\n        \"semantic_type\": \"\",\n        \"description\": \"\"\n      }\n    },\n    {\n      \"column\": \"QUANTITYORDERED\",\n      \"properties\": {\n        \"dtype\": \"number\",\n        \"std\": 9,\n        \"min\": 6,\n        \"max\": 97,\n        \"num_unique_values\": 50,\n        \"samples\": [\n          36,\n          15,\n          37\n        ],\n        \"semantic_type\": \"\",\n        \"description\": \"\"\n      }\n    },\n    {\n      \"column\": \"PRICEEACH\",\n      \"properties\": {\n        \"dtype\": \"number\",\n        \"std\": 20.238197963910622,\n        \"min\": 27.22,\n        \"max\": 100.0,\n        \"num_unique_values\": 990,\n        \"samples\": [\n          86.04,\n          72.12,\n          60.57\n        ],\n        \"semantic_type\": \"\",\n        \"description\": \"\"\n      }\n    },\n    {\n      \"column\": \"ORDERDATE\",\n      \"properties\": {\n        \"dtype\": \"date\",\n        \"min\": \"2003-01-06 00:00:00\",\n        \"max\": \"2005-05-17 00:00:00\",\n        \"num_unique_values\": 240,\n        \"samples\": [\n          \"2003-05-21 00:00:00\",\n          \"2003-02-17 00:00:00\",\n          \"2004-02-12 00:00:00\"\n        ],\n        \"semantic_type\": \"\",\n        \"description\": \"\"\n      }\n    },\n    {\n      \"column\": \"STATUS\",\n      \"properties\": {\n        \"dtype\": \"category\",\n        \"num_unique_values\": 2,\n        \"samples\": [\n          \"Resolved\",\n          \"Shipped\"\n        ],\n        \"semantic_type\": \"\",\n        \"description\": \"\"\n      }\n    },\n    {\n      \"column\": \"PRODUCTLINE\",\n      \"properties\": {\n        \"dtype\": \"category\",\n        \"num_unique_values\": 7,\n        \"samples\": [\n          \"Vintage Cars\",\n          \"Classic Cars\"\n        ],\n        \"semantic_type\": \"\",\n        \"description\": \"\"\n      }\n    },\n    {\n      \"column\": \"PRODUCTCODE\",\n      \"properties\": {\n        \"dtype\": \"category\",\n        \"num_unique_values\": 109,\n        \"samples\": [\n          \"S24_2000\",\n          \"S10_1949\"\n        ],\n        \"semantic_type\": \"\",\n        \"description\": \"\"\n      }\n    },\n    {\n      \"column\": \"CUSTOMERNAME\",\n      \"properties\": {\n        \"dtype\": \"category\",\n        \"num_unique_values\": 92,\n        \"samples\": [\n          \"Oulu Toy Supplies, Inc.\",\n          \"Marseille Mini Autos\"\n        ],\n        \"semantic_type\": \"\",\n        \"description\": \"\"\n      }\n    },\n    {\n      \"column\": \"CITY\",\n      \"properties\": {\n        \"dtype\": \"category\",\n        \"num_unique_values\": 73,\n        \"samples\": [\n          \"Madrid\",\n          \"Tsawassen\"\n        ],\n        \"semantic_type\": \"\",\n        \"description\": \"\"\n      }\n    },\n    {\n      \"column\": \"DEALSIZE\",\n      \"properties\": {\n        \"dtype\": \"category\",\n        \"num_unique_values\": 3,\n        \"samples\": [\n          \"Medium\",\n          \"Small\"\n        ],\n        \"semantic_type\": \"\",\n        \"description\": \"\"\n      }\n    },\n    {\n      \"column\": \"REVENUE\",\n      \"properties\": {\n        \"dtype\": \"number\",\n        \"std\": 1077.8552905233216,\n        \"min\": 553.95,\n        \"max\": 9048.16,\n        \"num_unique_values\": 1445,\n        \"samples\": [\n          2183.25,\n          1541.0\n        ],\n        \"semantic_type\": \"\",\n        \"description\": \"\"\n      }\n    }\n  ]\n}"
            }
          },
          "metadata": {},
          "execution_count": 14
        }
      ]
    },
    {
      "cell_type": "markdown",
      "source": [
        "# Data Visualization"
      ],
      "metadata": {
        "id": "jVovqyK_eDPc"
      }
    },
    {
      "cell_type": "code",
      "source": [
        "df_clean = df_proses.copy()"
      ],
      "metadata": {
        "id": "563hfXQhL8Qe"
      },
      "execution_count": null,
      "outputs": []
    },
    {
      "cell_type": "markdown",
      "source": [
        "## Product line dengan penjualan terendah dan tertinggi"
      ],
      "metadata": {
        "id": "bEC0bk03ee46"
      }
    },
    {
      "cell_type": "code",
      "source": [
        "jumlah_productline = df_clean['PRODUCTLINE'].value_counts()\n",
        "print(jumlah_productline)"
      ],
      "metadata": {
        "colab": {
          "base_uri": "https://localhost:8080/"
        },
        "id": "tVPK0BDreATb",
        "outputId": "1f4e6f94-5d9e-4830-84fc-05db1e6bf56f"
      },
      "execution_count": null,
      "outputs": [
        {
          "output_type": "stream",
          "name": "stdout",
          "text": [
            "PRODUCTLINE\n",
            "Classic Cars        922\n",
            "Vintage Cars        567\n",
            "Motorcycles         324\n",
            "Trucks and Buses    286\n",
            "Planes              283\n",
            "Ships               207\n",
            "Trains               75\n",
            "Name: count, dtype: int64\n"
          ]
        }
      ]
    },
    {
      "cell_type": "code",
      "source": [
        "# Menghitung penjualan per productline\n",
        "dfplot = df_clean.groupby('PRODUCTLINE')['REVENUE'].sum().reset_index()\n",
        "dfplot = dfplot.sort_values(by='REVENUE', ascending=False)\n",
        "\n",
        "# Membuat diagram batang\n",
        "plt.figure(figsize=(10,6))\n",
        "plt.bar(dfplot['PRODUCTLINE'], dfplot['REVENUE'], color='skyblue')\n",
        "plt.xlabel('Product Line')\n",
        "plt.ylabel('Penjualan')\n",
        "plt.title('Penjualan per Product Line')\n",
        "plt.xticks(rotation=90)\n",
        "plt.tight_layout()\n",
        "plt.show()\n",
        "\n",
        "print(\"Penjualan per Product Line:\")\n",
        "print(dfplot)"
      ],
      "metadata": {
        "colab": {
          "base_uri": "https://localhost:8080/",
          "height": 763
        },
        "id": "cFsNQ6biL8Mo",
        "outputId": "c030fcff-74ae-411f-ff06-32040c4557b8"
      },
      "execution_count": null,
      "outputs": [
        {
          "output_type": "display_data",
          "data": {
            "text/plain": [
              "<Figure size 1000x600 with 1 Axes>"
            ],
            "image/png": "[encoded data removed]"
          },
          "metadata": {}
        },
        {
          "output_type": "stream",
          "name": "stdout",
          "text": [
            "Penjualan per Product Line:\n",
            "        PRODUCTLINE     REVENUE\n",
            "0      Classic Cars  2817515.14\n",
            "6      Vintage Cars  1528213.53\n",
            "1       Motorcycles   941683.81\n",
            "5  Trucks and Buses   896017.45\n",
            "2            Planes   807105.12\n",
            "3             Ships   599668.69\n",
            "4            Trains   194804.26\n"
          ]
        }
      ]
    },
    {
      "cell_type": "markdown",
      "source": [
        "## Sales performance overtime"
      ],
      "metadata": {
        "id": "5hBTIPX8gMxg"
      }
    },
    {
      "cell_type": "code",
      "source": [
        "df_line= df_clean.copy()\n",
        "\n",
        "# Ekstrak tahun dan bulan dari tanggal\n",
        "df_line['TAHUN'] = df_line['ORDERDATE'].dt.year\n",
        "df_line['BULAN'] = df_line['ORDERDATE'].dt.month\n",
        "\n",
        "# Hitung penjualan bulanan per tahun\n",
        "penjualan_bulanan = df_line.groupby(['TAHUN', 'BULAN'])['REVENUE'].sum().reset_index()\n",
        "\n",
        "# Diagram garis penjualan bulanan per tahun\n",
        "plt.figure(figsize=(10,6))\n",
        "for tahun in penjualan_bulanan['TAHUN'].unique():\n",
        "    data_tahun = penjualan_bulanan[penjualan_bulanan['TAHUN'] == tahun]\n",
        "    plt.plot(data_tahun['BULAN'], data_tahun['REVENUE'], label=tahun)\n",
        "\n",
        "plt.xlabel('Bulan')\n",
        "plt.ylabel('Penjualan')\n",
        "plt.title('Penjualan Bulanan per Tahun')\n",
        "plt.legend()\n",
        "plt.show()\n",
        "\n",
        "print(\"Penjualan Bulanan per Tahun:\")\n",
        "print(penjualan_bulanan)"
      ],
      "metadata": {
        "colab": {
          "base_uri": "https://localhost:8080/",
          "height": 1000
        },
        "id": "wldYVVF5eAKX",
        "outputId": "8c7b534c-adf7-4f85-cb49-e1d7979aa0c2"
      },
      "execution_count": null,
      "outputs": [
        {
          "output_type": "display_data",
          "data": {
            "text/plain": [
              "<Figure size 1000x600 with 1 Axes>"
            ],
            "image/png": "[encoded data removed]"
          },
          "metadata": {}
        },
        {
          "output_type": "stream",
          "name": "stdout",
          "text": [
            "Penjualan Bulanan per Tahun:\n",
            "    TAHUN  BULAN    REVENUE\n",
            "0    2003      1  107885.96\n",
            "1    2003      2  120036.80\n",
            "2    2003      3  144096.23\n",
            "3    2003      4  169421.03\n",
            "4    2003      5  163654.12\n",
            "5    2003      6  139552.84\n",
            "6    2003      7  149869.73\n",
            "7    2003      8  166026.32\n",
            "8    2003      9  211045.86\n",
            "9    2003     10  421885.09\n",
            "10   2003     11  850203.27\n",
            "11   2003     12  210117.21\n",
            "12   2004      1  268015.87\n",
            "13   2004      2  258389.05\n",
            "14   2004      3  166958.56\n",
            "15   2004      4  172935.80\n",
            "16   2004      5  180469.64\n",
            "17   2004      6  158696.24\n",
            "18   2004      7  271103.61\n",
            "19   2004      8  386106.59\n",
            "20   2004      9  263854.26\n",
            "21   2004     10  452796.13\n",
            "22   2004     11  874092.26\n",
            "23   2004     12  313055.93\n",
            "24   2005      1  283680.46\n",
            "25   2005      2  289902.30\n",
            "26   2005      3  315131.94\n",
            "27   2005      4  106220.56\n",
            "28   2005      5  169804.34\n"
          ]
        }
      ]
    },
    {
      "cell_type": "markdown",
      "source": [
        "## How does deal size correlate with total sales? what is the percentage of contribution for eachtype of deal?"
      ],
      "metadata": {
        "id": "_781V9YjtEAp"
      }
    },
    {
      "cell_type": "code",
      "source": [
        "# Mengelompokkan data berdasarkan DEALSIZE dan menghitung total revenue\n",
        "total_revenue_dealsize = df_clean.groupby('DEALSIZE')['REVENUE'].sum().reset_index()\n",
        "\n",
        "# Membuat plot\n",
        "plt.figure(figsize=(10,6))\n",
        "plt.bar(total_revenue_dealsize['DEALSIZE'], total_revenue_dealsize['REVENUE'], color='skyblue')\n",
        "plt.title('Diagram Batang DEALSIZE')\n",
        "plt.xlabel('DEALSIZE')\n",
        "plt.ylabel('Total Revenue')\n",
        "plt.show()\n",
        "\n",
        "print(\"Total revenue untuk setiap DEALSIZE:\")\n",
        "print(total_revenue_dealsize)"
      ],
      "metadata": {
        "colab": {
          "base_uri": "https://localhost:8080/",
          "height": 651
        },
        "id": "CekkA6RMeAG_",
        "outputId": "273e43c4-63e5-49da-e1fc-12dc3681fd6c"
      },
      "execution_count": null,
      "outputs": [
        {
          "output_type": "display_data",
          "data": {
            "text/plain": [
              "<Figure size 1000x600 with 1 Axes>"
            ],
            "image/png": "[encoded data removed]"
          },
          "metadata": {}
        },
        {
          "output_type": "stream",
          "name": "stdout",
          "text": [
            "Total revenue untuk setiap DEALSIZE:\n",
            "  DEALSIZE     REVENUE\n",
            "0    Large   658548.16\n",
            "1   Medium  4660310.00\n",
            "2    Small  2466149.84\n"
          ]
        }
      ]
    },
    {
      "cell_type": "code",
      "source": [
        "# Diagram pie total penjualan berdasarkan DEALSIZE\n",
        "plt.figure(figsize=(10,6))\n",
        "plt.pie(total_revenue_dealsize['REVENUE'], labels=total_revenue_dealsize['DEALSIZE'], autopct='%1.1f%%')\n",
        "plt.title('Total Penjualan Berdasarkan DEALSIZE')\n",
        "plt.show()"
      ],
      "metadata": {
        "colab": {
          "base_uri": "https://localhost:8080/",
          "height": 521
        },
        "id": "JmD0QUNUeADz",
        "outputId": "6e89d3e5-2e54-47d2-e422-99792e229d6f"
      },
      "execution_count": null,
      "outputs": [
        {
          "output_type": "display_data",
          "data": {
            "text/plain": [
              "<Figure size 1000x600 with 1 Axes>"
            ],
            "image/png": "[encoded data removed]"
          },
          "metadata": {}
        }
      ]
    }
  ]
}